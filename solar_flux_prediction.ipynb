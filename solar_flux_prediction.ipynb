{
 "cells": [
  {
   "cell_type": "code",
   "execution_count": 55,
   "metadata": {},
   "outputs": [],
   "source": [
    "#created a data frame with specific labels and date format\n",
    "files <- list.files(path = \"solar_data\", full.names = TRUE)\n",
    "\n",
    "data_list <- lapply(files, function(file) {\n",
    "    read.table(file, skip = 12, header = FALSE, sep = \"\")\n",
    "})\n",
    "\n",
    "# Define column names\n",
    "column_names <- c(\n",
    "    \"Year\", \"Month\", \"Day\", \n",
    "    \"RadioFlux\", \"SunspotNumber\", \"SunspotArea\", \n",
    "    \"NewRegions\", \"MeanField\", \"SolarBkgdFlux\", \n",
    "    \"XRayC\", \"XRayM\", \"XRayX\", \n",
    "    \"OpticalS\", \"Optical1\", \"Optical2\", \"Optical3\"\n",
    ")\n",
    "\n",
    "data_list <- lapply(data_list, function(df) {\n",
    "    colnames(df) <- column_names\n",
    "    \n",
    "    df$Date <- as.Date(paste(df$Year, sprintf(\"%02d\", df$Month),\n",
    "                             sprintf(\"%02d\", df$Day), sep = \"\"),\n",
    "                       \"%Y%m%d\")\n",
    "    \n",
    "    df <- df[, !colnames(df) %in% c(\"Year\", \"Month\", \"Day\")]\n",
    "    df <- df[, c(\"Date\", setdiff(colnames(df), \"Date\"))]\n",
    "    \n",
    "    return(df)\n",
    "})\n",
    "\n",
    "df <- do.call(rbind, data_list)"
   ]
  },
  {
   "cell_type": "code",
   "execution_count": 56,
   "metadata": {},
   "outputs": [
    {
     "data": {
      "text/plain": [
       "      Date              RadioFlux     SunspotNumber     SunspotArea    \n",
       " Min.   :2014-01-01   Min.   : -1.0   Min.   :  0.00   Min.   :   0.0  \n",
       " 1st Qu.:2016-07-01   1st Qu.: 71.0   1st Qu.:  0.00   1st Qu.:   0.0  \n",
       " Median :2018-12-30   Median : 85.0   Median : 31.00   Median : 160.0  \n",
       " Mean   :2018-12-30   Mean   :100.8   Mean   : 49.19   Mean   : 344.1  \n",
       " 3rd Qu.:2021-06-29   3rd Qu.:126.0   3rd Qu.: 81.00   3rd Qu.: 540.0  \n",
       " Max.   :2023-12-30   Max.   :343.0   Max.   :296.00   Max.   :3120.0  \n",
       "                                                                       \n",
       "   NewRegions      MeanField    SolarBkgdFlux      XRayC       \n",
       " Min.   :0.000   Min.   : NA    *      :1395   Min.   : 0.000  \n",
       " 1st Qu.:0.000   1st Qu.: NA    A0.0   : 239   1st Qu.: 0.000  \n",
       " Median :0.000   Median : NA    B1.0   :  35   Median : 0.000  \n",
       " Mean   :0.434   Mean   :NaN    A6.3   :  32   Mean   : 2.499  \n",
       " 3rd Qu.:1.000   3rd Qu.: NA    B1.1   :  28   3rd Qu.: 4.000  \n",
       " Max.   :6.000   Max.   : NA    B2.2   :  27   Max.   :30.000  \n",
       "                 NA's   :3650   (Other):1894                   \n",
       "     XRayM             XRayX            OpticalS         Optical1    \n",
       " Min.   : 0.0000   Min.   :0.00000   Min.   : 0.000   Min.   :0.000  \n",
       " 1st Qu.: 0.0000   1st Qu.:0.00000   1st Qu.: 0.000   1st Qu.:0.000  \n",
       " Median : 0.0000   Median :0.00000   Median : 0.000   Median :0.000  \n",
       " Mean   : 0.2611   Mean   :0.01178   Mean   : 3.292   Mean   :0.211  \n",
       " 3rd Qu.: 0.0000   3rd Qu.:0.00000   3rd Qu.: 4.000   3rd Qu.:0.000  \n",
       " Max.   :11.0000   Max.   :2.00000   Max.   :55.000   Max.   :7.000  \n",
       "                                                                     \n",
       "    Optical2          Optical3       \n",
       " Min.   :0.00000   Min.   :0.000000  \n",
       " 1st Qu.:0.00000   1st Qu.:0.000000  \n",
       " Median :0.00000   Median :0.000000  \n",
       " Mean   :0.03425   Mean   :0.003836  \n",
       " 3rd Qu.:0.00000   3rd Qu.:0.000000  \n",
       " Max.   :2.00000   Max.   :1.000000  \n",
       "                                     "
      ]
     },
     "metadata": {},
     "output_type": "display_data"
    }
   ],
   "source": [
    "#summary of the dataset columns\n",
    "df$MeanField[df$MeanField == -999] <- NA\n",
    "summary(df)\n",
    "#ranges and magnitudes seem more or less similar across \n",
    "#Optical and X-Ray tables, but those \n",
    "#are different units of measurement so they can't be quite compared\n",
    "#replaced MeanField -999 data points with NA"
   ]
  },
  {
   "cell_type": "code",
   "execution_count": 57,
   "metadata": {},
   "outputs": [
    {
     "data": {
      "text/html": [
       "<time datetime=\"2023-02-17\">2023-02-17</time>"
      ],
      "text/latex": [
       "2023-02-17"
      ],
      "text/markdown": [
       "2023-02-17"
      ],
      "text/plain": [
       "[1] \"2023-02-17\""
      ]
     },
     "metadata": {},
     "output_type": "display_data"
    },
    {
     "data": {
      "text/html": [
       "<time datetime=\"2022-12-16\">2022-12-16</time>"
      ],
      "text/latex": [
       "2022-12-16"
      ],
      "text/markdown": [
       "2022-12-16"
      ],
      "text/plain": [
       "[1] \"2022-12-16\""
      ]
     },
     "metadata": {},
     "output_type": "display_data"
    }
   ],
   "source": [
    "#days with highest and lowest radio flux\n",
    "max_flux <- max(df$RadioFlux, na.rm = TRUE)\n",
    "min_flux <- min(df$RadioFlux, na.rm = TRUE)\n",
    "\n",
    "max_flux_days <- df$Date[df$RadioFlux == max_flux]\n",
    "min_flux_days <- df$Date[df$RadioFlux == min_flux]\n",
    "\n",
    "max_flux_days\n",
    "min_flux_days\n",
    "\n",
    "#2023-02-17 had the highest value for radio flux\n",
    "#2022-12-16 had the lowest value for radio flux"
   ]
  },
  {
   "cell_type": "code",
   "execution_count": 58,
   "metadata": {},
   "outputs": [
    {
     "data": {
      "text/html": [
       "<time datetime=\"2022-05-05\">2022-05-05</time>"
      ],
      "text/latex": [
       "2022-05-05"
      ],
      "text/markdown": [
       "2022-05-05"
      ],
      "text/plain": [
       "[1] \"2022-05-05\""
      ]
     },
     "metadata": {},
     "output_type": "display_data"
    },
    {
     "data": {
      "text/html": [
       "1989"
      ],
      "text/latex": [
       "1989"
      ],
      "text/markdown": [
       "1989"
      ],
      "text/plain": [
       "[1] 1989"
      ]
     },
     "metadata": {},
     "output_type": "display_data"
    }
   ],
   "source": [
    "#calculating the days with the highest number of solar flares \n",
    "#and a number of days without any\n",
    "df$total_flares <- with(df, XRayC + XRayM + XRayX)\n",
    "\n",
    "max_flares <- max(df$total_flares, na.rm = TRUE)\n",
    "max_flares_dates <- df$Date[df$total_flares == max_flares]\n",
    "\n",
    "max_flares_dates\n",
    "#2022-05-05 had the greatest number of solar flares\n",
    "\n",
    "no_flares_days <- sum(df$total_flares == 0, na.rm = TRUE)\n",
    "no_flares_days\n",
    "\n",
    "#there is a total of 1989 days when no solar flares were observed"
   ]
  },
  {
   "cell_type": "code",
   "execution_count": 59,
   "metadata": {},
   "outputs": [
    {
     "data": {
      "image/png": "[encoded data removed]",
      "text/plain": [
       "Plot with title “Solar Radio Flux by Year”"
      ]
     },
     "metadata": {},
     "output_type": "display_data"
    }
   ],
   "source": [
    "#boxplot of radio flux data\n",
    "df$Date <- as.Date(df$Date, format = \"%Y-%m-%d\")\n",
    "df$Year <- format(df$Date, \"%Y\")\n",
    "df$Year <- as.factor(df$Year)\n",
    "boxplot(RadioFlux ~ Year, data = df,\n",
    "        main = \"Solar Radio Flux by Year\",\n",
    "        xlab = \"Year\",\n",
    "        ylab = \"Solar Radio Flux\",\n",
    "        col = \"lightblue\",\n",
    "        border = \"darkblue\")"
   ]
  },
  {
   "cell_type": "code",
   "execution_count": 60,
   "metadata": {},
   "outputs": [],
   "source": [
    "#partitioning the dataset\n",
    "library(caret)\n",
    "set.seed(1)\n",
    "partition <- createDataPartition(y=df$RadioFlux, p = 0.8, list = FALSE)\n",
    "trainData <- df[partition, ]\n",
    "testData <- df[-partition, ]"
   ]
  },
  {
   "cell_type": "code",
   "execution_count": 61,
   "metadata": {},
   "outputs": [],
   "source": [
    "#generated a model to predict solar flux based on the sunspot number\n",
    "#and individaul number of X-ray and optical solar flares\n",
    "model <- lm(RadioFlux ~ SunspotNumber + XRayC + XRayM + XRayX \n",
    "            + OpticalS + Optical1 + Optical2 + Optical3, \n",
    "            data = trainData)"
   ]
  },
  {
   "cell_type": "code",
   "execution_count": 62,
   "metadata": {},
   "outputs": [
    {
     "data": {
      "text/html": [
       "0.826469247758173"
      ],
      "text/latex": [
       "0.826469247758173"
      ],
      "text/markdown": [
       "0.826469247758173"
      ],
      "text/plain": [
       "[1] 0.8264692"
      ]
     },
     "metadata": {},
     "output_type": "display_data"
    }
   ],
   "source": [
    "#determining the accuracy of the model at predicting solar flux\n",
    "predictions <- predict(model, newdata = testData)\n",
    "ss_total <- sum((testData$RadioFlux - mean(testData$RadioFlux))^2)\n",
    "ss_residual <- sum((testData$RadioFlux - predictions)^2)\n",
    "r_squared <- 1 - (ss_residual / ss_total)\n",
    "r_squared\n",
    "#an r-squared value of 0.82 means that 82% of the variance in the \n",
    "#sunspot number and the individual number of X-ray \n",
    "#and optical solar flares is explained by the model.\n",
    "#the model is good at capturing the relationship between \n",
    "#radio flux and the dependent variables"
   ]
  },
  {
   "cell_type": "code",
   "execution_count": 63,
   "metadata": {},
   "outputs": [
    {
     "data": {
      "text/html": [
       "<strong>1:</strong> 122.60106267417"
      ],
      "text/latex": [
       "\\textbf{1:} 122.60106267417"
      ],
      "text/markdown": [
       "**1:** 122.60106267417"
      ],
      "text/plain": [
       "       1 \n",
       "122.6011 "
      ]
     },
     "metadata": {},
     "output_type": "display_data"
    }
   ],
   "source": [
    "#testing the the model for a specific case to predict\n",
    "#solar radio flux for a day when 96 sunspots are observed\n",
    "#and a single solar flare with X-ray radiation \n",
    "#that is classified as a C-class flare occurs\n",
    "\n",
    "new_prediction <- data.frame(\n",
    "  SunspotNumber = 96,\n",
    "  XRayC = 1,\n",
    "  XRayM = 0,\n",
    "  XRayX = 0,\n",
    "  OpticalS = 0,\n",
    "  Optical1 = 0,\n",
    "  Optical2 = 0,\n",
    "  Optical3 = 0\n",
    ")\n",
    "\n",
    "predicted_flux <- predict(model, newdata = new_prediction)\n",
    "predicted_flux\n",
    "#I am fairly confident in the answers, \n",
    "#since r-squared has shown a pretty reliable relationship \n",
    "#between radio flux and other variables"
   ]
  }
 ],
 "metadata": {
  "kernelspec": {
   "display_name": "R 3.6.1",
   "language": "R",
   "name": "r-3.6.1"
  },
  "language_info": {
   "codemirror_mode": "r",
   "file_extension": ".r",
   "mimetype": "text/x-r-source",
   "name": "R",
   "pygments_lexer": "r",
   "version": "3.6.1"
  }
 },
 "nbformat": 4,
 "nbformat_minor": 2
}
